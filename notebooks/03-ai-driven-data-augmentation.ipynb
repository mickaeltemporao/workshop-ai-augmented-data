{
  "cells": [
    {
      "cell_type": "markdown",
      "metadata": {
        "id": "-QhPWE1lwZHH"
      },
      "source": [
        "# AI Augmented Data\n",
        "\n",
        "This notebook illustrates how to interact with the Gemini LLM API to automate label identification using predefined tasks.\n",
        "\n",
        "- Learn how to set up and interact with an LLM API.\n",
        "- Learn how to make functions to automate taks.\n",
        "- Learn to extract attributes from account descriptions."
      ]
    },
    {
      "cell_type": "markdown",
      "metadata": {
        "id": "EeMCtmx9ykyx"
      },
      "source": [
        "# Set up your API key\n",
        "\n",
        "To use the Gemini API, you'll need an API key. If you don't already have one, create a key in Google AI Studio.\n",
        "\n",
        "<a class=\"button\" href=\"https://aistudio.google.com/app/apikey\" target=\"_blank\" rel=\"noopener noreferrer\">Get an API key</a>\n",
        "\n",
        "In Colab, add the key to the secrets manager under the \"🔑\" in the left panel. Give it the name `GOOGLE_API_KEY`. Then pass the key to the SDK:"
      ]
    },
    {
      "cell_type": "code",
      "execution_count": 5,
      "metadata": {
        "id": "HTiaTu6O1LRC"
      },
      "outputs": [],
      "source": [
        "# Import the Python SDK\n",
        "import google.generativeai as genai\n",
        "# Used to securely store your API key\n",
        "from google.colab import userdata\n",
        "\n",
        "GOOGLE_API_KEY=\"COLLEZ_VOTRE_CLE_ICI\"\n",
        "genai.configure(api_key=GOOGLE_API_KEY)"
      ]
    },
    {
      "cell_type": "markdown",
      "metadata": {
        "id": "CZPYk29o2No0"
      },
      "source": [
        "## Initialize the Generative Model\n",
        "\n",
        "Before you can make any API calls, you need to initialize the Generative Model."
      ]
    },
    {
      "cell_type": "code",
      "execution_count": 6,
      "metadata": {
        "id": "s-JqXcDe2hZ_"
      },
      "outputs": [],
      "source": [
        "# Define model version & initialize the model\n",
        "VERSION = \"gemini-1.5-flash\"\n",
        "model = genai.GenerativeModel(VERSION)\n"
      ]
    },
    {
      "cell_type": "markdown",
      "source": [
        "# Interacting with LLMs"
      ],
      "metadata": {
        "id": "o5q2OwraFW7J"
      }
    },
    {
      "cell_type": "markdown",
      "metadata": {
        "id": "nXxypzJH4MUl"
      },
      "source": [
        "## Generate text"
      ]
    },
    {
      "cell_type": "code",
      "execution_count": 8,
      "metadata": {
        "id": "j51mcrLD4Y2W",
        "colab": {
          "base_uri": "https://localhost:8080/",
          "height": 52
        },
        "outputId": "6b58c926-5296-4106-d603-00a4507e2d03"
      },
      "outputs": [
        {
          "output_type": "stream",
          "name": "stdout",
          "text": [
            "Create an object containing your request and then execute your query. \n",
            "\n"
          ]
        }
      ],
      "source": [
        "response = model.generate_content(\"Can you tell me a sci-fi tale in less than 5 sentences?\")\n",
        "print(response.text)"
      ]
    },
    {
      "cell_type": "markdown",
      "source": [
        "### Hack Time"
      ],
      "metadata": {
        "id": "UBaWIsU_aN_h"
      }
    },
    {
      "cell_type": "code",
      "source": [
        "# Create an object containing your request and then execute your query.\n",
        "task = \"\"\n",
        "response = model.generate_content(task)\n",
        "print(response.text)\n"
      ],
      "metadata": {
        "id": "yUu6A4I4aPef"
      },
      "execution_count": null,
      "outputs": []
    },
    {
      "cell_type": "markdown",
      "source": [
        "# Functions & Automation"
      ],
      "metadata": {
        "id": "ygp11r9eFWwN"
      }
    },
    {
      "cell_type": "code",
      "source": [
        "# Try to make a function and play with it!\n"
      ],
      "metadata": {
        "id": "PRML8SiiE6Eg"
      },
      "execution_count": null,
      "outputs": []
    },
    {
      "cell_type": "markdown",
      "source": [
        "## Functions to generate tasks"
      ],
      "metadata": {
        "id": "kwK4zOgmFCLQ"
      }
    },
    {
      "cell_type": "code",
      "source": [
        "def make_task(task_text):\n",
        "    return f\"\"\"\n",
        "        You are an unbiased US politics expert.\n",
        "        You will be provided with a Twitter account name and description.\n",
        "        Your task is to classify the account into one of the following numbered categories:\n",
        "        {task_text}\n",
        "        For each of these categories, I have provided a short description to help you with your choice.\n",
        "        Your output consists only of the number of the selected category, that is the number before the description provided.\n",
        "    \"\"\""
      ],
      "metadata": {
        "id": "N4jCXuvrazqt"
      },
      "execution_count": null,
      "outputs": []
    },
    {
      "cell_type": "markdown",
      "source": [
        "### Hack Time"
      ],
      "metadata": {
        "id": "zP6u7NDrcuqP"
      }
    },
    {
      "cell_type": "code",
      "source": [
        "# Test the newly created function\n"
      ],
      "metadata": {
        "id": "lPQ7vxCNctVm"
      },
      "execution_count": null,
      "outputs": []
    },
    {
      "cell_type": "markdown",
      "source": [
        "## Create a task dictionary"
      ],
      "metadata": {
        "id": "acxkrPPKc4QU"
      }
    },
    {
      "cell_type": "code",
      "source": [
        "tasks = {\n",
        "    \"ideology\": make_task(\n",
        "        \"\"\"\n",
        "        1. Left wing accounts are those that express political views and opinions or include content that focuses on issues of income equality, environmental protection, social justice, open borders, progressive policies to promote minority representation;\n",
        "        2. Centre accounts are those that express political views that mix or combine left and right opinion and content such that one opinion or type of content does not dominate;\n",
        "        3. Right wing accounts are those that express political views and opinions or include content that focuses on issues of economic liberalism, less state intervention in citizens lives, lower taxes, controlling borders and immigration);\n",
        "        4. Non-partisan accounts are those that typically do not express political views or contain any political content;\n",
        "        \"\"\"\n",
        "    ),\n",
        "    \"age\": make_task(\n",
        "        \"\"\"\n",
        "        1. 18-24 Early adulthood, references to college, social media trends, youth culture.\n",
        "        2. 25-34: Early career stage, potential references to career growth, early family life, pop culture.\n",
        "        3. 35-44: Mid-career, family-oriented topics, more established professional references.\n",
        "        4. 45-54: Experienced career stage, references to leadership roles, mature pop culture.\n",
        "        5. 55-64: Pre-retirement stage, discussions about retirement, long-term career, older family dynamics.\n",
        "        6. 65+: Retirement, senior living, nostalgia, grandparenting.\n",
        "        0. Unclassifiable/Insufficient Information.\n",
        "        \"\"\"\n",
        "    ),\n",
        "    \"gender\": make_task(\n",
        "        \"\"\"\n",
        "        1. Male: Masculine language, traditional male-dominated interests or references.\n",
        "        2. Female: Feminine language, topics or references more common among women.\n",
        "        3. Non-binary/Genderqueer: Non-gendered language, a mix of traditionally male and female references.\n",
        "        0. Unclassifiable/Insufficient Information.\n",
        "        \"\"\"\n",
        "    ),\n",
        "    \"education\": make_task(\n",
        "        \"\"\"\n",
        "        1. High School or Lower: Basic language use, common knowledge, fewer technical terms.\n",
        "        2. Some College/Technical School: Intermediate language, some industry-specific terms or references.\n",
        "        3. Undergraduate Degree: Advanced language, references to undergraduate-level education.\n",
        "        4. Graduate Degree (Master’s, PhD): Complex language, use of specialized terminology, advanced concepts.\n",
        "        5. Professional Certifications: Industry-specific jargon, focus on certification-related content.\n",
        "        0. Unclassifiable/Insufficient Information.\n",
        "        \"\"\"\n",
        "    ),\n",
        "}"
      ],
      "metadata": {
        "id": "-g2WlCiqa8ds"
      },
      "execution_count": null,
      "outputs": []
    },
    {
      "cell_type": "code",
      "source": [
        "# Test it!\n"
      ],
      "metadata": {
        "id": "1u7fQI8jdARF"
      },
      "execution_count": 10,
      "outputs": []
    },
    {
      "cell_type": "markdown",
      "source": [
        "# Putting it all together."
      ],
      "metadata": {
        "id": "GLp8P6BTGBWk"
      }
    },
    {
      "cell_type": "markdown",
      "source": [
        "## Get some Data"
      ],
      "metadata": {
        "id": "-HJGnQAyZNr4"
      }
    },
    {
      "cell_type": "code",
      "source": [
        "import pandas as pd\n",
        "\n",
        "DATA_PATH = \"https://raw.githubusercontent.com/mickaeltemporao/workshop-ai-augmented-data/main/data/raw/us_pols_20.csv\"\n",
        "df = pd.read_csv(DATA_PATH)\n",
        "cols = ['username', 'description']\n",
        "df[cols].head()"
      ],
      "metadata": {
        "id": "j5RF9IddZQSB",
        "colab": {
          "base_uri": "https://localhost:8080/",
          "height": 206
        },
        "outputId": "e5b56160-da9a-4992-e85f-08c6c7068810"
      },
      "execution_count": 9,
      "outputs": [
        {
          "output_type": "execute_result",
          "data": {
            "text/plain": [
              "      username                                        description\n",
              "0  votetimmons  Fighting for #SC04 in Congress. Captain in the...\n",
              "1  RepHartzler  The archived tweets of Vicky Hartzler, fmr Rep...\n",
              "2  DrJillStein  Medical doctor. Presidential candidate. People...\n",
              "3    madeleine  Author of the NYT bestseller Hell and Other De...\n",
              "4   WydenPress  Official account of U.S. Senator @RonWyden 's ..."
            ],
            "text/html": [
              "\n",
              "  <div id=\"df-a3865105-a6d5-4248-a6ac-6ba50552be11\" class=\"colab-df-container\">\n",
              "    <div>\n",
              "<style scoped>\n",
              "    .dataframe tbody tr th:only-of-type {\n",
              "        vertical-align: middle;\n",
              "    }\n",
              "\n",
              "    .dataframe tbody tr th {\n",
              "        vertical-align: top;\n",
              "    }\n",
              "\n",
              "    .dataframe thead th {\n",
              "        text-align: right;\n",
              "    }\n",
              "</style>\n",
              "<table border=\"1\" class=\"dataframe\">\n",
              "  <thead>\n",
              "    <tr style=\"text-align: right;\">\n",
              "      <th></th>\n",
              "      <th>username</th>\n",
              "      <th>description</th>\n",
              "    </tr>\n",
              "  </thead>\n",
              "  <tbody>\n",
              "    <tr>\n",
              "      <th>0</th>\n",
              "      <td>votetimmons</td>\n",
              "      <td>Fighting for #SC04 in Congress. Captain in the...</td>\n",
              "    </tr>\n",
              "    <tr>\n",
              "      <th>1</th>\n",
              "      <td>RepHartzler</td>\n",
              "      <td>The archived tweets of Vicky Hartzler, fmr Rep...</td>\n",
              "    </tr>\n",
              "    <tr>\n",
              "      <th>2</th>\n",
              "      <td>DrJillStein</td>\n",
              "      <td>Medical doctor. Presidential candidate. People...</td>\n",
              "    </tr>\n",
              "    <tr>\n",
              "      <th>3</th>\n",
              "      <td>madeleine</td>\n",
              "      <td>Author of the NYT bestseller Hell and Other De...</td>\n",
              "    </tr>\n",
              "    <tr>\n",
              "      <th>4</th>\n",
              "      <td>WydenPress</td>\n",
              "      <td>Official account of U.S. Senator @RonWyden 's ...</td>\n",
              "    </tr>\n",
              "  </tbody>\n",
              "</table>\n",
              "</div>\n",
              "    <div class=\"colab-df-buttons\">\n",
              "\n",
              "  <div class=\"colab-df-container\">\n",
              "    <button class=\"colab-df-convert\" onclick=\"convertToInteractive('df-a3865105-a6d5-4248-a6ac-6ba50552be11')\"\n",
              "            title=\"Convert this dataframe to an interactive table.\"\n",
              "            style=\"display:none;\">\n",
              "\n",
              "  <svg xmlns=\"http://www.w3.org/2000/svg\" height=\"24px\" viewBox=\"0 -960 960 960\">\n",
              "    <path d=\"M120-120v-720h720v720H120Zm60-500h600v-160H180v160Zm220 220h160v-160H400v160Zm0 220h160v-160H400v160ZM180-400h160v-160H180v160Zm440 0h160v-160H620v160ZM180-180h160v-160H180v160Zm440 0h160v-160H620v160Z\"/>\n",
              "  </svg>\n",
              "    </button>\n",
              "\n",
              "  <style>\n",
              "    .colab-df-container {\n",
              "      display:flex;\n",
              "      gap: 12px;\n",
              "    }\n",
              "\n",
              "    .colab-df-convert {\n",
              "      background-color: #E8F0FE;\n",
              "      border: none;\n",
              "      border-radius: 50%;\n",
              "      cursor: pointer;\n",
              "      display: none;\n",
              "      fill: #1967D2;\n",
              "      height: 32px;\n",
              "      padding: 0 0 0 0;\n",
              "      width: 32px;\n",
              "    }\n",
              "\n",
              "    .colab-df-convert:hover {\n",
              "      background-color: #E2EBFA;\n",
              "      box-shadow: 0px 1px 2px rgba(60, 64, 67, 0.3), 0px 1px 3px 1px rgba(60, 64, 67, 0.15);\n",
              "      fill: #174EA6;\n",
              "    }\n",
              "\n",
              "    .colab-df-buttons div {\n",
              "      margin-bottom: 4px;\n",
              "    }\n",
              "\n",
              "    [theme=dark] .colab-df-convert {\n",
              "      background-color: #3B4455;\n",
              "      fill: #D2E3FC;\n",
              "    }\n",
              "\n",
              "    [theme=dark] .colab-df-convert:hover {\n",
              "      background-color: #434B5C;\n",
              "      box-shadow: 0px 1px 3px 1px rgba(0, 0, 0, 0.15);\n",
              "      filter: drop-shadow(0px 1px 2px rgba(0, 0, 0, 0.3));\n",
              "      fill: #FFFFFF;\n",
              "    }\n",
              "  </style>\n",
              "\n",
              "    <script>\n",
              "      const buttonEl =\n",
              "        document.querySelector('#df-a3865105-a6d5-4248-a6ac-6ba50552be11 button.colab-df-convert');\n",
              "      buttonEl.style.display =\n",
              "        google.colab.kernel.accessAllowed ? 'block' : 'none';\n",
              "\n",
              "      async function convertToInteractive(key) {\n",
              "        const element = document.querySelector('#df-a3865105-a6d5-4248-a6ac-6ba50552be11');\n",
              "        const dataTable =\n",
              "          await google.colab.kernel.invokeFunction('convertToInteractive',\n",
              "                                                    [key], {});\n",
              "        if (!dataTable) return;\n",
              "\n",
              "        const docLinkHtml = 'Like what you see? Visit the ' +\n",
              "          '<a target=\"_blank\" href=https://colab.research.google.com/notebooks/data_table.ipynb>data table notebook</a>'\n",
              "          + ' to learn more about interactive tables.';\n",
              "        element.innerHTML = '';\n",
              "        dataTable['output_type'] = 'display_data';\n",
              "        await google.colab.output.renderOutput(dataTable, element);\n",
              "        const docLink = document.createElement('div');\n",
              "        docLink.innerHTML = docLinkHtml;\n",
              "        element.appendChild(docLink);\n",
              "      }\n",
              "    </script>\n",
              "  </div>\n",
              "\n",
              "\n",
              "<div id=\"df-3d4e3a08-1c97-4bd0-90e9-166cf192f381\">\n",
              "  <button class=\"colab-df-quickchart\" onclick=\"quickchart('df-3d4e3a08-1c97-4bd0-90e9-166cf192f381')\"\n",
              "            title=\"Suggest charts\"\n",
              "            style=\"display:none;\">\n",
              "\n",
              "<svg xmlns=\"http://www.w3.org/2000/svg\" height=\"24px\"viewBox=\"0 0 24 24\"\n",
              "     width=\"24px\">\n",
              "    <g>\n",
              "        <path d=\"M19 3H5c-1.1 0-2 .9-2 2v14c0 1.1.9 2 2 2h14c1.1 0 2-.9 2-2V5c0-1.1-.9-2-2-2zM9 17H7v-7h2v7zm4 0h-2V7h2v10zm4 0h-2v-4h2v4z\"/>\n",
              "    </g>\n",
              "</svg>\n",
              "  </button>\n",
              "\n",
              "<style>\n",
              "  .colab-df-quickchart {\n",
              "      --bg-color: #E8F0FE;\n",
              "      --fill-color: #1967D2;\n",
              "      --hover-bg-color: #E2EBFA;\n",
              "      --hover-fill-color: #174EA6;\n",
              "      --disabled-fill-color: #AAA;\n",
              "      --disabled-bg-color: #DDD;\n",
              "  }\n",
              "\n",
              "  [theme=dark] .colab-df-quickchart {\n",
              "      --bg-color: #3B4455;\n",
              "      --fill-color: #D2E3FC;\n",
              "      --hover-bg-color: #434B5C;\n",
              "      --hover-fill-color: #FFFFFF;\n",
              "      --disabled-bg-color: #3B4455;\n",
              "      --disabled-fill-color: #666;\n",
              "  }\n",
              "\n",
              "  .colab-df-quickchart {\n",
              "    background-color: var(--bg-color);\n",
              "    border: none;\n",
              "    border-radius: 50%;\n",
              "    cursor: pointer;\n",
              "    display: none;\n",
              "    fill: var(--fill-color);\n",
              "    height: 32px;\n",
              "    padding: 0;\n",
              "    width: 32px;\n",
              "  }\n",
              "\n",
              "  .colab-df-quickchart:hover {\n",
              "    background-color: var(--hover-bg-color);\n",
              "    box-shadow: 0 1px 2px rgba(60, 64, 67, 0.3), 0 1px 3px 1px rgba(60, 64, 67, 0.15);\n",
              "    fill: var(--button-hover-fill-color);\n",
              "  }\n",
              "\n",
              "  .colab-df-quickchart-complete:disabled,\n",
              "  .colab-df-quickchart-complete:disabled:hover {\n",
              "    background-color: var(--disabled-bg-color);\n",
              "    fill: var(--disabled-fill-color);\n",
              "    box-shadow: none;\n",
              "  }\n",
              "\n",
              "  .colab-df-spinner {\n",
              "    border: 2px solid var(--fill-color);\n",
              "    border-color: transparent;\n",
              "    border-bottom-color: var(--fill-color);\n",
              "    animation:\n",
              "      spin 1s steps(1) infinite;\n",
              "  }\n",
              "\n",
              "  @keyframes spin {\n",
              "    0% {\n",
              "      border-color: transparent;\n",
              "      border-bottom-color: var(--fill-color);\n",
              "      border-left-color: var(--fill-color);\n",
              "    }\n",
              "    20% {\n",
              "      border-color: transparent;\n",
              "      border-left-color: var(--fill-color);\n",
              "      border-top-color: var(--fill-color);\n",
              "    }\n",
              "    30% {\n",
              "      border-color: transparent;\n",
              "      border-left-color: var(--fill-color);\n",
              "      border-top-color: var(--fill-color);\n",
              "      border-right-color: var(--fill-color);\n",
              "    }\n",
              "    40% {\n",
              "      border-color: transparent;\n",
              "      border-right-color: var(--fill-color);\n",
              "      border-top-color: var(--fill-color);\n",
              "    }\n",
              "    60% {\n",
              "      border-color: transparent;\n",
              "      border-right-color: var(--fill-color);\n",
              "    }\n",
              "    80% {\n",
              "      border-color: transparent;\n",
              "      border-right-color: var(--fill-color);\n",
              "      border-bottom-color: var(--fill-color);\n",
              "    }\n",
              "    90% {\n",
              "      border-color: transparent;\n",
              "      border-bottom-color: var(--fill-color);\n",
              "    }\n",
              "  }\n",
              "</style>\n",
              "\n",
              "  <script>\n",
              "    async function quickchart(key) {\n",
              "      const quickchartButtonEl =\n",
              "        document.querySelector('#' + key + ' button');\n",
              "      quickchartButtonEl.disabled = true;  // To prevent multiple clicks.\n",
              "      quickchartButtonEl.classList.add('colab-df-spinner');\n",
              "      try {\n",
              "        const charts = await google.colab.kernel.invokeFunction(\n",
              "            'suggestCharts', [key], {});\n",
              "      } catch (error) {\n",
              "        console.error('Error during call to suggestCharts:', error);\n",
              "      }\n",
              "      quickchartButtonEl.classList.remove('colab-df-spinner');\n",
              "      quickchartButtonEl.classList.add('colab-df-quickchart-complete');\n",
              "    }\n",
              "    (() => {\n",
              "      let quickchartButtonEl =\n",
              "        document.querySelector('#df-3d4e3a08-1c97-4bd0-90e9-166cf192f381 button');\n",
              "      quickchartButtonEl.style.display =\n",
              "        google.colab.kernel.accessAllowed ? 'block' : 'none';\n",
              "    })();\n",
              "  </script>\n",
              "</div>\n",
              "\n",
              "    </div>\n",
              "  </div>\n"
            ],
            "application/vnd.google.colaboratory.intrinsic+json": {
              "type": "dataframe",
              "summary": "{\n  \"name\": \"df[cols]\",\n  \"rows\": 5,\n  \"fields\": [\n    {\n      \"column\": \"username\",\n      \"properties\": {\n        \"dtype\": \"string\",\n        \"num_unique_values\": 5,\n        \"samples\": [\n          \"RepHartzler\",\n          \"WydenPress\",\n          \"DrJillStein\"\n        ],\n        \"semantic_type\": \"\",\n        \"description\": \"\"\n      }\n    },\n    {\n      \"column\": \"description\",\n      \"properties\": {\n        \"dtype\": \"string\",\n        \"num_unique_values\": 5,\n        \"samples\": [\n          \"The archived tweets of Vicky Hartzler, fmr Representative for Missouri's 4th District. This account is inactive. You can now follow Vicky at @VickyHartzlerMO.\",\n          \"Official account of U.S. Senator @RonWyden 's (D-Ore.) press office. Tweets managed by staff, hence editorial flair.\",\n          \"Medical doctor. Presidential candidate. People. Planet. Peace.\"\n        ],\n        \"semantic_type\": \"\",\n        \"description\": \"\"\n      }\n    }\n  ]\n}"
            }
          },
          "metadata": {},
          "execution_count": 9
        }
      ]
    },
    {
      "cell_type": "markdown",
      "source": [
        "*REMEMBER*:\n",
        "- We need to provide the LLM with a name and an account description.\n",
        "We can make a simple function to do this."
      ],
      "metadata": {
        "id": "SkLms8h_c9h0"
      }
    },
    {
      "cell_type": "code",
      "source": [
        "def make_content(obs):\n",
        "    output = f\"\"\"\n",
        "Account name: {obs['username']}\n",
        "Account description: {obs['description']}\n",
        "\"\"\"\n",
        "    return output"
      ],
      "metadata": {
        "id": "aJ0Wldi6aupI"
      },
      "execution_count": 13,
      "outputs": []
    },
    {
      "cell_type": "markdown",
      "source": [
        "## Hack Time"
      ],
      "metadata": {
        "id": "wynfW9PyO2HT"
      }
    },
    {
      "cell_type": "code",
      "source": [
        "# Test your newly created function\n"
      ],
      "metadata": {
        "id": "C3EwZBlGOvu9",
        "outputId": "7b859369-25f9-4859-9ced-30ba33dc68ff",
        "colab": {
          "base_uri": "https://localhost:8080/",
          "height": 35
        }
      },
      "execution_count": 14,
      "outputs": [
        {
          "output_type": "execute_result",
          "data": {
            "text/plain": [
              "'\\nAccount name: votetimmons\\nAccount description: Fighting for #SC04 in Congress. Captain in the US Air Force @theSCANG. Small business owner. Endorsed by President Trump!\\n'"
            ],
            "application/vnd.google.colaboratory.intrinsic+json": {
              "type": "string"
            }
          },
          "metadata": {},
          "execution_count": 14
        }
      ]
    },
    {
      "cell_type": "markdown",
      "source": [
        "## Raising the Stakes"
      ],
      "metadata": {
        "id": "tMQZGzjXdF6S"
      }
    },
    {
      "cell_type": "code",
      "source": [
        "model=genai.GenerativeModel(\n",
        "    model_name=VERSION,\n",
        "    system_instruction=tasks['age']\n",
        ")\n",
        "\n",
        "response = model.generate_content(\n",
        "    make_content(df.iloc[0]),\n",
        "    generation_config=genai.types.GenerationConfig(\n",
        "        candidate_count=1,\n",
        "        stop_sequences=['x'],\n",
        "        max_output_tokens=10,\n",
        "        temperature=0.7,\n",
        "    )\n",
        ")\n",
        "print(response.text)\n"
      ],
      "metadata": {
        "id": "Ql9v_GgQa0j8"
      },
      "execution_count": null,
      "outputs": []
    },
    {
      "cell_type": "markdown",
      "source": [
        "# We can automate this for more users & tasks!"
      ],
      "metadata": {
        "id": "hM_S40DgeyWA"
      }
    },
    {
      "cell_type": "code",
      "source": [
        "def run_task(task, content):\n",
        "    model=genai.GenerativeModel(\n",
        "      model_name=VERSION,\n",
        "      system_instruction=task\n",
        "    )\n",
        "    response = model.generate_content(\n",
        "        content,\n",
        "        generation_config=genai.types.GenerationConfig(\n",
        "            candidate_count=1,\n",
        "            stop_sequences=['x'],\n",
        "            max_output_tokens=10,\n",
        "            temperature=0.7,\n",
        "        )\n",
        "    )\n",
        "    output = response.text\n",
        "    return output\n"
      ],
      "metadata": {
        "id": "wO93fTmQZhIe"
      },
      "execution_count": null,
      "outputs": []
    },
    {
      "cell_type": "code",
      "source": [
        "def main():\n",
        "    for task in tasks:\n",
        "        print(f\"Starting {task}\")\n",
        "        newcol = f'task_{task}'\n",
        "\n",
        "        if newcol not in df.columns:\n",
        "            df[newcol] = \"NONE\"\n",
        "\n",
        "        for i, j in df.iterrows():\n",
        "            if df.loc[j.name, newcol] != \"NONE\":\n",
        "                continue\n",
        "            print(f\"Running task for {j.name}\")\n",
        "            task_output = run_task(\n",
        "                tasks[task],\n",
        "                make_content(j)\n",
        "            )\n",
        "            df.loc[j.name, newcol] = task_output\n"
      ],
      "metadata": {
        "id": "NuYnsTwFaxA6"
      },
      "execution_count": null,
      "outputs": []
    },
    {
      "cell_type": "code",
      "source": [
        "main()"
      ],
      "metadata": {
        "id": "7fwPVomSfYdp"
      },
      "execution_count": null,
      "outputs": []
    },
    {
      "cell_type": "code",
      "source": [
        "df"
      ],
      "metadata": {
        "id": "9sSnGLFgk2Y4"
      },
      "execution_count": null,
      "outputs": []
    },
    {
      "cell_type": "code",
      "source": [
        "vars = df.columns[df.columns.str.contains('task')]\n",
        "df[vars] = df[vars].apply(pd.to_numeric)\n"
      ],
      "metadata": {
        "id": "8Od_KZsUmrzW"
      },
      "execution_count": null,
      "outputs": []
    },
    {
      "cell_type": "code",
      "source": [
        "df[vars] = df[vars].astype('category')"
      ],
      "metadata": {
        "id": "qgqb2YLVqCPE"
      },
      "execution_count": null,
      "outputs": []
    },
    {
      "cell_type": "markdown",
      "source": [
        "# Let's take a closer look..."
      ],
      "metadata": {
        "id": "uh2KmLTbmGex"
      }
    },
    {
      "cell_type": "code",
      "source": [
        "import altair as alt\n"
      ],
      "metadata": {
        "id": "sg08Zhrfl_Os"
      },
      "execution_count": null,
      "outputs": []
    },
    {
      "cell_type": "code",
      "source": [
        "alt.Chart(df).mark_bar().encode(\n",
        "    x=alt.X('count(task_ideology)').stack(\"normalize\"),\n",
        "    y=alt.Y(f'{task_age}'),\n",
        "    color=alt.Color('task_ideology').legend(orient='top')\n",
        ")\n"
      ],
      "metadata": {
        "id": "fmz4XBzrmJ26"
      },
      "execution_count": null,
      "outputs": []
    },
    {
      "cell_type": "code",
      "source": [
        "alt.Chart(df).mark_bar().encode(\n",
        "  x=alt.X('count(task_education)'),\n",
        "  y='task_education',\n",
        "  color='task_ideology'\n",
        ")\n"
      ],
      "metadata": {
        "id": "Lbv32NKcrbg_"
      },
      "execution_count": null,
      "outputs": []
    }
  ],
  "metadata": {
    "colab": {
      "name": "03-ai-data-augmentation.ipynb",
      "provenance": [],
      "toc_visible": true
    },
    "kernelspec": {
      "display_name": "Python 3",
      "name": "python3"
    }
  },
  "nbformat": 4,
  "nbformat_minor": 0
}