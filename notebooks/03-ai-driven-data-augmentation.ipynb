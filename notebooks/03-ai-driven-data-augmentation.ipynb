{
  "cells": [
    {
      "cell_type": "markdown",
      "metadata": {
        "id": "-QhPWE1lwZHH"
      },
      "source": [
        "# Augmenting Data with the Gemini API in Python"
      ]
    },
    {
      "cell_type": "markdown",
      "metadata": {
        "id": "db29b8d4247e"
      },
      "source": [
        "This tutorial aims to illustrate how to interact with the Gemini LLM API to create labels using predefined tasks."
      ]
    },
    {
      "cell_type": "markdown",
      "metadata": {
        "id": "EeMCtmx9ykyx"
      },
      "source": [
        "## Set up your API key\n",
        "\n",
        "To use the Gemini API, you'll need an API key. If you don't already have one, create a key in Google AI Studio.\n",
        "\n",
        "<a class=\"button\" href=\"https://aistudio.google.com/app/apikey\" target=\"_blank\" rel=\"noopener noreferrer\">Get an API key</a>\n",
        "\n",
        "In Colab, add the key to the secrets manager under the \"🔑\" in the left panel. Give it the name `GOOGLE_API_KEY`. Then pass the key to the SDK:"
      ]
    },
    {
      "cell_type": "code",
      "execution_count": 54,
      "metadata": {
        "id": "HTiaTu6O1LRC"
      },
      "outputs": [],
      "source": [
        "# Import the Python SDK\n",
        "import google.generativeai as genai\n",
        "# Used to securely store your API key\n",
        "from google.colab import userdata\n",
        "\n",
        "GOOGLE_API_KEY=\"COLLEZ_VOTRE_CLE_ICI\"\n",
        "genai.configure(api_key=GOOGLE_API_KEY)"
      ]
    },
    {
      "cell_type": "markdown",
      "metadata": {
        "id": "CZPYk29o2No0"
      },
      "source": [
        "## Initialize the Generative Model\n",
        "\n",
        "Before you can make any API calls, you need to initialize the Generative Model."
      ]
    },
    {
      "cell_type": "code",
      "execution_count": 56,
      "metadata": {
        "id": "s-JqXcDe2hZ_"
      },
      "outputs": [],
      "source": [
        "# model = genai.GenerativeModel('gemini-pro')\n",
        "model = genai.GenerativeModel(\"gemini-1.5-flash\")\n"
      ]
    },
    {
      "cell_type": "markdown",
      "metadata": {
        "id": "nXxypzJH4MUl"
      },
      "source": [
        "## Generate text"
      ]
    },
    {
      "cell_type": "code",
      "execution_count": 57,
      "metadata": {
        "id": "j51mcrLD4Y2W",
        "outputId": "14304d76-33bc-446b-e293-ea8c1414f4b0",
        "colab": {
          "base_uri": "https://localhost:8080/",
          "height": 72
        }
      },
      "outputs": [
        {
          "output_type": "stream",
          "name": "stdout",
          "text": [
            "Une petite fille nommée Lily aimait regarder les étoiles. Chaque soir, elle s'allongeait dans l'herbe et observait les points lumineux dans le ciel nocturne. Un soir, elle a vu une étoile filante traverser le ciel. Elle a fait un vœu en regardant l'étoile disparaitre. Le lendemain matin, Lily a trouvé un petit chaton errant dans son jardin. Elle l'a nommé Étoile, en souvenir de son vœu. Lily et Étoile sont devenus les meilleurs amis et ont passé de nombreuses heures à regarder les étoiles ensemble. \n",
            "\n"
          ]
        }
      ],
      "source": [
        "response = model.generate_content(\"Peux-tu me raconter une histoire en 5 phrases\")\n",
        "print(response.text)"
      ]
    },
    {
      "cell_type": "markdown",
      "source": [
        "# Hack Time"
      ],
      "metadata": {
        "id": "UBaWIsU_aN_h"
      }
    },
    {
      "cell_type": "code",
      "source": [
        "# Créez une un object contenant votre demande et lancez votre requête.\n",
        "task = \"\"\n",
        "response = model.generate_content(task)\n",
        "print(response.text)\n"
      ],
      "metadata": {
        "id": "yUu6A4I4aPef",
        "outputId": "a9fcae6e-41d7-4d5f-d4ed-8487312476a0",
        "colab": {
          "base_uri": "https://localhost:8080/",
          "height": 332
        }
      },
      "execution_count": 58,
      "outputs": [
        {
          "output_type": "error",
          "ename": "TypeError",
          "evalue": "contents must not be empty",
          "traceback": [
            "\u001b[0;31m---------------------------------------------------------------------------\u001b[0m",
            "\u001b[0;31mTypeError\u001b[0m                                 Traceback (most recent call last)",
            "\u001b[0;32m<ipython-input-58-541befd5df1c>\u001b[0m in \u001b[0;36m<cell line: 3>\u001b[0;34m()\u001b[0m\n\u001b[1;32m      1\u001b[0m \u001b[0;31m# Créez une un object contenant votre demande et lancez votre requête.\u001b[0m\u001b[0;34m\u001b[0m\u001b[0;34m\u001b[0m\u001b[0m\n\u001b[1;32m      2\u001b[0m \u001b[0mtask\u001b[0m \u001b[0;34m=\u001b[0m \u001b[0;34m\"\"\u001b[0m\u001b[0;34m\u001b[0m\u001b[0;34m\u001b[0m\u001b[0m\n\u001b[0;32m----> 3\u001b[0;31m \u001b[0mresponse\u001b[0m \u001b[0;34m=\u001b[0m \u001b[0mmodel\u001b[0m\u001b[0;34m.\u001b[0m\u001b[0mgenerate_content\u001b[0m\u001b[0;34m(\u001b[0m\u001b[0mtask\u001b[0m\u001b[0;34m)\u001b[0m\u001b[0;34m\u001b[0m\u001b[0;34m\u001b[0m\u001b[0m\n\u001b[0m\u001b[1;32m      4\u001b[0m \u001b[0mprint\u001b[0m\u001b[0;34m(\u001b[0m\u001b[0mresponse\u001b[0m\u001b[0;34m.\u001b[0m\u001b[0mtext\u001b[0m\u001b[0;34m)\u001b[0m\u001b[0;34m\u001b[0m\u001b[0;34m\u001b[0m\u001b[0m\n",
            "\u001b[0;32m/usr/local/lib/python3.10/dist-packages/google/generativeai/generative_models.py\u001b[0m in \u001b[0;36mgenerate_content\u001b[0;34m(self, contents, generation_config, safety_settings, stream, tools, tool_config, request_options)\u001b[0m\n\u001b[1;32m    301\u001b[0m         \"\"\"\n\u001b[1;32m    302\u001b[0m         \u001b[0;32mif\u001b[0m \u001b[0;32mnot\u001b[0m \u001b[0mcontents\u001b[0m\u001b[0;34m:\u001b[0m\u001b[0;34m\u001b[0m\u001b[0;34m\u001b[0m\u001b[0m\n\u001b[0;32m--> 303\u001b[0;31m             \u001b[0;32mraise\u001b[0m \u001b[0mTypeError\u001b[0m\u001b[0;34m(\u001b[0m\u001b[0;34m\"contents must not be empty\"\u001b[0m\u001b[0;34m)\u001b[0m\u001b[0;34m\u001b[0m\u001b[0;34m\u001b[0m\u001b[0m\n\u001b[0m\u001b[1;32m    304\u001b[0m \u001b[0;34m\u001b[0m\u001b[0m\n\u001b[1;32m    305\u001b[0m         request = self._prepare_request(\n",
            "\u001b[0;31mTypeError\u001b[0m: contents must not be empty"
          ]
        }
      ]
    },
    {
      "cell_type": "markdown",
      "source": [
        "# Let's get some external data"
      ],
      "metadata": {
        "id": "-HJGnQAyZNr4"
      }
    },
    {
      "cell_type": "code",
      "source": [
        "import pandas as pd\n",
        "\n",
        "DATA_PATH = \"https://raw.githubusercontent.com/mickaeltemporao/workshop-ai-augmented-data/main/data/raw/us_pols_20.csv\"\n",
        "df = pd.read_csv(DATA_PATH)\n",
        "df.head()"
      ],
      "metadata": {
        "id": "j5RF9IddZQSB",
        "outputId": "7814fe57-173a-40ba-eb52-ca81a1fa9417",
        "colab": {
          "base_uri": "https://localhost:8080/",
          "height": 206
        }
      },
      "execution_count": 60,
      "outputs": [
        {
          "output_type": "execute_result",
          "data": {
            "text/plain": [
              "                 name     username     sex   age  \\\n",
              "0     William Timmons  votetimmons    male  40.0   \n",
              "1      Vicky Hartzler  RepHartzler  female  64.0   \n",
              "2          Jill Stein  DrJillStein  female  74.0   \n",
              "3  Madeleine Albright    madeleine  female  87.0   \n",
              "4           Ron Wyden   WydenPress    male  75.0   \n",
              "\n",
              "                              party  \\\n",
              "0                  Republican Party   \n",
              "1                  Republican Party   \n",
              "2  Green Party of the United States   \n",
              "3                  Democratic Party   \n",
              "4                  Democratic Party   \n",
              "\n",
              "                                         description  \n",
              "0  Fighting for #SC04 in Congress. Captain in the...  \n",
              "1  The archived tweets of Vicky Hartzler, fmr Rep...  \n",
              "2  Medical doctor. Presidential candidate. People...  \n",
              "3  Author of the NYT bestseller Hell and Other De...  \n",
              "4  Official account of U.S. Senator @RonWyden 's ...  "
            ],
            "text/html": [
              "\n",
              "  <div id=\"df-4fc1f6b8-c110-41f3-8427-4cdcb8dc619f\" class=\"colab-df-container\">\n",
              "    <div>\n",
              "<style scoped>\n",
              "    .dataframe tbody tr th:only-of-type {\n",
              "        vertical-align: middle;\n",
              "    }\n",
              "\n",
              "    .dataframe tbody tr th {\n",
              "        vertical-align: top;\n",
              "    }\n",
              "\n",
              "    .dataframe thead th {\n",
              "        text-align: right;\n",
              "    }\n",
              "</style>\n",
              "<table border=\"1\" class=\"dataframe\">\n",
              "  <thead>\n",
              "    <tr style=\"text-align: right;\">\n",
              "      <th></th>\n",
              "      <th>name</th>\n",
              "      <th>username</th>\n",
              "      <th>sex</th>\n",
              "      <th>age</th>\n",
              "      <th>party</th>\n",
              "      <th>description</th>\n",
              "    </tr>\n",
              "  </thead>\n",
              "  <tbody>\n",
              "    <tr>\n",
              "      <th>0</th>\n",
              "      <td>William Timmons</td>\n",
              "      <td>votetimmons</td>\n",
              "      <td>male</td>\n",
              "      <td>40.0</td>\n",
              "      <td>Republican Party</td>\n",
              "      <td>Fighting for #SC04 in Congress. Captain in the...</td>\n",
              "    </tr>\n",
              "    <tr>\n",
              "      <th>1</th>\n",
              "      <td>Vicky Hartzler</td>\n",
              "      <td>RepHartzler</td>\n",
              "      <td>female</td>\n",
              "      <td>64.0</td>\n",
              "      <td>Republican Party</td>\n",
              "      <td>The archived tweets of Vicky Hartzler, fmr Rep...</td>\n",
              "    </tr>\n",
              "    <tr>\n",
              "      <th>2</th>\n",
              "      <td>Jill Stein</td>\n",
              "      <td>DrJillStein</td>\n",
              "      <td>female</td>\n",
              "      <td>74.0</td>\n",
              "      <td>Green Party of the United States</td>\n",
              "      <td>Medical doctor. Presidential candidate. People...</td>\n",
              "    </tr>\n",
              "    <tr>\n",
              "      <th>3</th>\n",
              "      <td>Madeleine Albright</td>\n",
              "      <td>madeleine</td>\n",
              "      <td>female</td>\n",
              "      <td>87.0</td>\n",
              "      <td>Democratic Party</td>\n",
              "      <td>Author of the NYT bestseller Hell and Other De...</td>\n",
              "    </tr>\n",
              "    <tr>\n",
              "      <th>4</th>\n",
              "      <td>Ron Wyden</td>\n",
              "      <td>WydenPress</td>\n",
              "      <td>male</td>\n",
              "      <td>75.0</td>\n",
              "      <td>Democratic Party</td>\n",
              "      <td>Official account of U.S. Senator @RonWyden 's ...</td>\n",
              "    </tr>\n",
              "  </tbody>\n",
              "</table>\n",
              "</div>\n",
              "    <div class=\"colab-df-buttons\">\n",
              "\n",
              "  <div class=\"colab-df-container\">\n",
              "    <button class=\"colab-df-convert\" onclick=\"convertToInteractive('df-4fc1f6b8-c110-41f3-8427-4cdcb8dc619f')\"\n",
              "            title=\"Convert this dataframe to an interactive table.\"\n",
              "            style=\"display:none;\">\n",
              "\n",
              "  <svg xmlns=\"http://www.w3.org/2000/svg\" height=\"24px\" viewBox=\"0 -960 960 960\">\n",
              "    <path d=\"M120-120v-720h720v720H120Zm60-500h600v-160H180v160Zm220 220h160v-160H400v160Zm0 220h160v-160H400v160ZM180-400h160v-160H180v160Zm440 0h160v-160H620v160ZM180-180h160v-160H180v160Zm440 0h160v-160H620v160Z\"/>\n",
              "  </svg>\n",
              "    </button>\n",
              "\n",
              "  <style>\n",
              "    .colab-df-container {\n",
              "      display:flex;\n",
              "      gap: 12px;\n",
              "    }\n",
              "\n",
              "    .colab-df-convert {\n",
              "      background-color: #E8F0FE;\n",
              "      border: none;\n",
              "      border-radius: 50%;\n",
              "      cursor: pointer;\n",
              "      display: none;\n",
              "      fill: #1967D2;\n",
              "      height: 32px;\n",
              "      padding: 0 0 0 0;\n",
              "      width: 32px;\n",
              "    }\n",
              "\n",
              "    .colab-df-convert:hover {\n",
              "      background-color: #E2EBFA;\n",
              "      box-shadow: 0px 1px 2px rgba(60, 64, 67, 0.3), 0px 1px 3px 1px rgba(60, 64, 67, 0.15);\n",
              "      fill: #174EA6;\n",
              "    }\n",
              "\n",
              "    .colab-df-buttons div {\n",
              "      margin-bottom: 4px;\n",
              "    }\n",
              "\n",
              "    [theme=dark] .colab-df-convert {\n",
              "      background-color: #3B4455;\n",
              "      fill: #D2E3FC;\n",
              "    }\n",
              "\n",
              "    [theme=dark] .colab-df-convert:hover {\n",
              "      background-color: #434B5C;\n",
              "      box-shadow: 0px 1px 3px 1px rgba(0, 0, 0, 0.15);\n",
              "      filter: drop-shadow(0px 1px 2px rgba(0, 0, 0, 0.3));\n",
              "      fill: #FFFFFF;\n",
              "    }\n",
              "  </style>\n",
              "\n",
              "    <script>\n",
              "      const buttonEl =\n",
              "        document.querySelector('#df-4fc1f6b8-c110-41f3-8427-4cdcb8dc619f button.colab-df-convert');\n",
              "      buttonEl.style.display =\n",
              "        google.colab.kernel.accessAllowed ? 'block' : 'none';\n",
              "\n",
              "      async function convertToInteractive(key) {\n",
              "        const element = document.querySelector('#df-4fc1f6b8-c110-41f3-8427-4cdcb8dc619f');\n",
              "        const dataTable =\n",
              "          await google.colab.kernel.invokeFunction('convertToInteractive',\n",
              "                                                    [key], {});\n",
              "        if (!dataTable) return;\n",
              "\n",
              "        const docLinkHtml = 'Like what you see? Visit the ' +\n",
              "          '<a target=\"_blank\" href=https://colab.research.google.com/notebooks/data_table.ipynb>data table notebook</a>'\n",
              "          + ' to learn more about interactive tables.';\n",
              "        element.innerHTML = '';\n",
              "        dataTable['output_type'] = 'display_data';\n",
              "        await google.colab.output.renderOutput(dataTable, element);\n",
              "        const docLink = document.createElement('div');\n",
              "        docLink.innerHTML = docLinkHtml;\n",
              "        element.appendChild(docLink);\n",
              "      }\n",
              "    </script>\n",
              "  </div>\n",
              "\n",
              "\n",
              "<div id=\"df-37e3059a-2a82-4d8d-b474-e2806fe945e3\">\n",
              "  <button class=\"colab-df-quickchart\" onclick=\"quickchart('df-37e3059a-2a82-4d8d-b474-e2806fe945e3')\"\n",
              "            title=\"Suggest charts\"\n",
              "            style=\"display:none;\">\n",
              "\n",
              "<svg xmlns=\"http://www.w3.org/2000/svg\" height=\"24px\"viewBox=\"0 0 24 24\"\n",
              "     width=\"24px\">\n",
              "    <g>\n",
              "        <path d=\"M19 3H5c-1.1 0-2 .9-2 2v14c0 1.1.9 2 2 2h14c1.1 0 2-.9 2-2V5c0-1.1-.9-2-2-2zM9 17H7v-7h2v7zm4 0h-2V7h2v10zm4 0h-2v-4h2v4z\"/>\n",
              "    </g>\n",
              "</svg>\n",
              "  </button>\n",
              "\n",
              "<style>\n",
              "  .colab-df-quickchart {\n",
              "      --bg-color: #E8F0FE;\n",
              "      --fill-color: #1967D2;\n",
              "      --hover-bg-color: #E2EBFA;\n",
              "      --hover-fill-color: #174EA6;\n",
              "      --disabled-fill-color: #AAA;\n",
              "      --disabled-bg-color: #DDD;\n",
              "  }\n",
              "\n",
              "  [theme=dark] .colab-df-quickchart {\n",
              "      --bg-color: #3B4455;\n",
              "      --fill-color: #D2E3FC;\n",
              "      --hover-bg-color: #434B5C;\n",
              "      --hover-fill-color: #FFFFFF;\n",
              "      --disabled-bg-color: #3B4455;\n",
              "      --disabled-fill-color: #666;\n",
              "  }\n",
              "\n",
              "  .colab-df-quickchart {\n",
              "    background-color: var(--bg-color);\n",
              "    border: none;\n",
              "    border-radius: 50%;\n",
              "    cursor: pointer;\n",
              "    display: none;\n",
              "    fill: var(--fill-color);\n",
              "    height: 32px;\n",
              "    padding: 0;\n",
              "    width: 32px;\n",
              "  }\n",
              "\n",
              "  .colab-df-quickchart:hover {\n",
              "    background-color: var(--hover-bg-color);\n",
              "    box-shadow: 0 1px 2px rgba(60, 64, 67, 0.3), 0 1px 3px 1px rgba(60, 64, 67, 0.15);\n",
              "    fill: var(--button-hover-fill-color);\n",
              "  }\n",
              "\n",
              "  .colab-df-quickchart-complete:disabled,\n",
              "  .colab-df-quickchart-complete:disabled:hover {\n",
              "    background-color: var(--disabled-bg-color);\n",
              "    fill: var(--disabled-fill-color);\n",
              "    box-shadow: none;\n",
              "  }\n",
              "\n",
              "  .colab-df-spinner {\n",
              "    border: 2px solid var(--fill-color);\n",
              "    border-color: transparent;\n",
              "    border-bottom-color: var(--fill-color);\n",
              "    animation:\n",
              "      spin 1s steps(1) infinite;\n",
              "  }\n",
              "\n",
              "  @keyframes spin {\n",
              "    0% {\n",
              "      border-color: transparent;\n",
              "      border-bottom-color: var(--fill-color);\n",
              "      border-left-color: var(--fill-color);\n",
              "    }\n",
              "    20% {\n",
              "      border-color: transparent;\n",
              "      border-left-color: var(--fill-color);\n",
              "      border-top-color: var(--fill-color);\n",
              "    }\n",
              "    30% {\n",
              "      border-color: transparent;\n",
              "      border-left-color: var(--fill-color);\n",
              "      border-top-color: var(--fill-color);\n",
              "      border-right-color: var(--fill-color);\n",
              "    }\n",
              "    40% {\n",
              "      border-color: transparent;\n",
              "      border-right-color: var(--fill-color);\n",
              "      border-top-color: var(--fill-color);\n",
              "    }\n",
              "    60% {\n",
              "      border-color: transparent;\n",
              "      border-right-color: var(--fill-color);\n",
              "    }\n",
              "    80% {\n",
              "      border-color: transparent;\n",
              "      border-right-color: var(--fill-color);\n",
              "      border-bottom-color: var(--fill-color);\n",
              "    }\n",
              "    90% {\n",
              "      border-color: transparent;\n",
              "      border-bottom-color: var(--fill-color);\n",
              "    }\n",
              "  }\n",
              "</style>\n",
              "\n",
              "  <script>\n",
              "    async function quickchart(key) {\n",
              "      const quickchartButtonEl =\n",
              "        document.querySelector('#' + key + ' button');\n",
              "      quickchartButtonEl.disabled = true;  // To prevent multiple clicks.\n",
              "      quickchartButtonEl.classList.add('colab-df-spinner');\n",
              "      try {\n",
              "        const charts = await google.colab.kernel.invokeFunction(\n",
              "            'suggestCharts', [key], {});\n",
              "      } catch (error) {\n",
              "        console.error('Error during call to suggestCharts:', error);\n",
              "      }\n",
              "      quickchartButtonEl.classList.remove('colab-df-spinner');\n",
              "      quickchartButtonEl.classList.add('colab-df-quickchart-complete');\n",
              "    }\n",
              "    (() => {\n",
              "      let quickchartButtonEl =\n",
              "        document.querySelector('#df-37e3059a-2a82-4d8d-b474-e2806fe945e3 button');\n",
              "      quickchartButtonEl.style.display =\n",
              "        google.colab.kernel.accessAllowed ? 'block' : 'none';\n",
              "    })();\n",
              "  </script>\n",
              "</div>\n",
              "\n",
              "    </div>\n",
              "  </div>\n"
            ],
            "application/vnd.google.colaboratory.intrinsic+json": {
              "type": "dataframe",
              "variable_name": "df",
              "summary": "{\n  \"name\": \"df\",\n  \"rows\": 15,\n  \"fields\": [\n    {\n      \"column\": \"name\",\n      \"properties\": {\n        \"dtype\": \"string\",\n        \"num_unique_values\": 15,\n        \"samples\": [\n          \"Vanessa Gibson\",\n          \"Michelle Giuda\",\n          \"William Timmons\"\n        ],\n        \"semantic_type\": \"\",\n        \"description\": \"\"\n      }\n    },\n    {\n      \"column\": \"username\",\n      \"properties\": {\n        \"dtype\": \"string\",\n        \"num_unique_values\": 15,\n        \"samples\": [\n          \"Vanessalgibson\",\n          \"michellegiuda\",\n          \"votetimmons\"\n        ],\n        \"semantic_type\": \"\",\n        \"description\": \"\"\n      }\n    },\n    {\n      \"column\": \"sex\",\n      \"properties\": {\n        \"dtype\": \"category\",\n        \"num_unique_values\": 2,\n        \"samples\": [\n          \"female\",\n          \"male\"\n        ],\n        \"semantic_type\": \"\",\n        \"description\": \"\"\n      }\n    },\n    {\n      \"column\": \"age\",\n      \"properties\": {\n        \"dtype\": \"number\",\n        \"std\": 17.119190011991417,\n        \"min\": 39.0,\n        \"max\": 91.0,\n        \"num_unique_values\": 14,\n        \"samples\": [\n          45.0,\n          39.0\n        ],\n        \"semantic_type\": \"\",\n        \"description\": \"\"\n      }\n    },\n    {\n      \"column\": \"party\",\n      \"properties\": {\n        \"dtype\": \"category\",\n        \"num_unique_values\": 4,\n        \"samples\": [\n          \"Green Party of the United States\",\n          \"California Republican Party\"\n        ],\n        \"semantic_type\": \"\",\n        \"description\": \"\"\n      }\n    },\n    {\n      \"column\": \"description\",\n      \"properties\": {\n        \"dtype\": \"string\",\n        \"num_unique_values\": 15,\n        \"samples\": [\n          \"The 14th Bronx Borough President, Former Council Member, District 16, Bronx. Personal Page. Standing in Purpose. Opinions are my own. BP Updates @bronxbp\",\n          \"CEO of the Krach Institute for @TechDiplomacy at Purdue. Former U.S. Assistant Secretary of State and @UCLAGymnastics Team Captain.\"\n        ],\n        \"semantic_type\": \"\",\n        \"description\": \"\"\n      }\n    }\n  ]\n}"
            }
          },
          "metadata": {},
          "execution_count": 60
        }
      ]
    },
    {
      "cell_type": "code",
      "source": [
        "def make_task(task_text):\n",
        "    return f\"\"\"\n",
        "        You are an unbiased US politics expert.\n",
        "        You will be provided with a Twitter account name and description.\n",
        "        Your task is to classify the account into one of the following numbered categories:\n",
        "        {task_text}\n",
        "        For each of these categories, I have provided a short description to help you with your choice.\n",
        "        Your output consists only of the number of the selected category, that is the number before the description provided.\n",
        "    \"\"\""
      ],
      "metadata": {
        "id": "N4jCXuvrazqt"
      },
      "execution_count": 61,
      "outputs": []
    },
    {
      "cell_type": "markdown",
      "source": [
        "# Hack Time"
      ],
      "metadata": {
        "id": "zP6u7NDrcuqP"
      }
    },
    {
      "cell_type": "code",
      "source": [
        "# Test the newly created function\n"
      ],
      "metadata": {
        "id": "lPQ7vxCNctVm",
        "outputId": "76e80387-0839-4a21-fe99-268ddda720c1",
        "colab": {
          "base_uri": "https://localhost:8080/",
          "height": 70
        }
      },
      "execution_count": 63,
      "outputs": [
        {
          "output_type": "execute_result",
          "data": {
            "text/plain": [
              "'\\n        You are an unbiased US politics expert.\\n        You will be provided with a Twitter account name and description.\\n        Your task is to classify the account into one of the following numbered categories:\\n        test\\n        For each of these categories, I have provided a short description to help you with your choice.\\n        Your output consists only of the number of the selected category, that is the number before the description provided.\\n    '"
            ],
            "application/vnd.google.colaboratory.intrinsic+json": {
              "type": "string"
            }
          },
          "metadata": {},
          "execution_count": 63
        }
      ]
    },
    {
      "cell_type": "markdown",
      "source": [
        "# Let's add more tasks"
      ],
      "metadata": {
        "id": "acxkrPPKc4QU"
      }
    },
    {
      "cell_type": "code",
      "source": [
        "task = {\n",
        "    \"ideology\": make_task(\n",
        "        \"\"\"\n",
        "        1. Left wing accounts are those that express political views and opinions or include content that focuses on issues of income equality, environmental protection, social justice, open borders, progressive policies to promote minority representation;\n",
        "        2. Centre accounts are those that express political views that mix or combine left and right opinion and content such that one opinion or type of content does not dominate;\n",
        "        3. Right wing accounts are those that express political views and opinions or include content that focuses on issues of economic liberalism, less state intervention in citizens lives, lower taxes, controlling borders and immigration);\n",
        "        4. Non-partisan accounts are those that typically do not express political views or contain any political content;\n",
        "        \"\"\"\n",
        "    ),\n",
        "    \"age\": make_task(\n",
        "        \"\"\"\n",
        "        1. 18-24 Early adulthood, references to college, social media trends, youth culture.\n",
        "        2. 25-34: Early career stage, potential references to career growth, early family life, pop culture.\n",
        "        3. 35-44: Mid-career, family-oriented topics, more established professional references.\n",
        "        4. 45-54: Experienced career stage, references to leadership roles, mature pop culture.\n",
        "        5. 55-64: Pre-retirement stage, discussions about retirement, long-term career, older family dynamics.\n",
        "        6. 65+: Retirement, senior living, nostalgia, grandparenting.\n",
        "        0. Unclassifiable/Insufficient Information.\n",
        "        \"\"\"\n",
        "    ),\n",
        "    \"gender\": make_task(\n",
        "        \"\"\"\n",
        "        1. Male: Masculine language, traditional male-dominated interests or references.\n",
        "        2. Female: Feminine language, topics or references more common among women.\n",
        "        3. Non-binary/Genderqueer: Non-gendered language, a mix of traditionally male and female references.\n",
        "        0. Unclassifiable/Insufficient Information.\n",
        "        \"\"\"\n",
        "    ),\n",
        "    \"education\": make_task(\n",
        "        \"\"\"\n",
        "        1. High School or Lower: Basic language use, common knowledge, fewer technical terms.\n",
        "        2. Some College/Technical School: Intermediate language, some industry-specific terms or references.\n",
        "        3. Undergraduate Degree: Advanced language, references to undergraduate-level education.\n",
        "        4. Graduate Degree (Master’s, PhD): Complex language, use of specialized terminology, advanced concepts.\n",
        "        5. Professional Certifications: Industry-specific jargon, focus on certification-related content.\n",
        "        0. Unclassifiable/Insufficient Information.\n",
        "        \"\"\"\n",
        "    ),\n",
        "}"
      ],
      "metadata": {
        "id": "-g2WlCiqa8ds"
      },
      "execution_count": 66,
      "outputs": []
    },
    {
      "cell_type": "markdown",
      "source": [
        "# Hack Time"
      ],
      "metadata": {
        "id": "SkLms8h_c9h0"
      }
    },
    {
      "cell_type": "code",
      "source": [
        "# Test it!\n"
      ],
      "metadata": {
        "id": "1u7fQI8jdARF",
        "outputId": "44bc4fcf-1934-4e9f-fa0f-115c27dd6c34",
        "colab": {
          "base_uri": "https://localhost:8080/",
          "height": 124
        }
      },
      "execution_count": 67,
      "outputs": [
        {
          "output_type": "execute_result",
          "data": {
            "text/plain": [
              "'\\n        You are an unbiased US politics expert.\\n        You will be provided with a Twitter account name and description.\\n        Your task is to classify the account into one of the following numbered categories:\\n        \\n        1. 18-24 Early adulthood, references to college, social media trends, youth culture.\\n        2. 25-34: Early career stage, potential references to career growth, early family life, pop culture.\\n        3. 35-44: Mid-career, family-oriented topics, more established professional references.\\n        4. 45-54: Experienced career stage, references to leadership roles, mature pop culture.\\n        5. 55-64: Pre-retirement stage, discussions about retirement, long-term career, older family dynamics.\\n        6. 65+: Retirement, senior living, nostalgia, grandparenting.\\n        0. Unclassifiable/Insufficient Information.\\n        \\n        For each of these categories, I have provided a short description to help you with your choice.\\n        Your output consists only of the number of the selected category, that is the number before the description provided.\\n    '"
            ],
            "application/vnd.google.colaboratory.intrinsic+json": {
              "type": "string"
            }
          },
          "metadata": {},
          "execution_count": 67
        }
      ]
    },
    {
      "cell_type": "markdown",
      "source": [
        "# Let's find a user!"
      ],
      "metadata": {
        "id": "Lm6tsImQdouM"
      }
    },
    {
      "cell_type": "code",
      "source": [
        "df.iloc[0]"
      ],
      "metadata": {
        "id": "XSqQj0s8dtJR",
        "outputId": "f803a7a9-0a60-498f-e37b-e9845abdf38c",
        "colab": {
          "base_uri": "https://localhost:8080/",
          "height": 272
        }
      },
      "execution_count": 70,
      "outputs": [
        {
          "output_type": "execute_result",
          "data": {
            "text/plain": [
              "name                                             William Timmons\n",
              "username                                             votetimmons\n",
              "sex                                                         male\n",
              "age                                                         40.0\n",
              "party                                           Republican Party\n",
              "description    Fighting for #SC04 in Congress. Captain in the...\n",
              "Name: 0, dtype: object"
            ],
            "text/html": [
              "<div>\n",
              "<style scoped>\n",
              "    .dataframe tbody tr th:only-of-type {\n",
              "        vertical-align: middle;\n",
              "    }\n",
              "\n",
              "    .dataframe tbody tr th {\n",
              "        vertical-align: top;\n",
              "    }\n",
              "\n",
              "    .dataframe thead th {\n",
              "        text-align: right;\n",
              "    }\n",
              "</style>\n",
              "<table border=\"1\" class=\"dataframe\">\n",
              "  <thead>\n",
              "    <tr style=\"text-align: right;\">\n",
              "      <th></th>\n",
              "      <th>0</th>\n",
              "    </tr>\n",
              "  </thead>\n",
              "  <tbody>\n",
              "    <tr>\n",
              "      <th>name</th>\n",
              "      <td>William Timmons</td>\n",
              "    </tr>\n",
              "    <tr>\n",
              "      <th>username</th>\n",
              "      <td>votetimmons</td>\n",
              "    </tr>\n",
              "    <tr>\n",
              "      <th>sex</th>\n",
              "      <td>male</td>\n",
              "    </tr>\n",
              "    <tr>\n",
              "      <th>age</th>\n",
              "      <td>40.0</td>\n",
              "    </tr>\n",
              "    <tr>\n",
              "      <th>party</th>\n",
              "      <td>Republican Party</td>\n",
              "    </tr>\n",
              "    <tr>\n",
              "      <th>description</th>\n",
              "      <td>Fighting for #SC04 in Congress. Captain in the...</td>\n",
              "    </tr>\n",
              "  </tbody>\n",
              "</table>\n",
              "</div><br><label><b>dtype:</b> object</label>"
            ]
          },
          "metadata": {},
          "execution_count": 70
        }
      ]
    },
    {
      "cell_type": "code",
      "source": [
        "def make_content(obs):\n",
        "    return f\"\"\"Account name: {obs.username}\n",
        "Account description: {obs['description']}\n",
        "\"\"\"\n",
        "\n",
        "print(make_content(df.iloc[0]))"
      ],
      "metadata": {
        "id": "aJ0Wldi6aupI",
        "outputId": "99eec87e-0efd-44f4-ba77-91a38aaddf4f",
        "colab": {
          "base_uri": "https://localhost:8080/"
        }
      },
      "execution_count": 73,
      "outputs": [
        {
          "output_type": "stream",
          "name": "stdout",
          "text": [
            "Account name: votetimmons\n",
            "Account description: Fighting for #SC04 in Congress. Captain in the US Air Force @theSCANG. Small business owner. Endorsed by President Trump!\n",
            "\n"
          ]
        }
      ]
    },
    {
      "cell_type": "markdown",
      "source": [
        "# Let's try this!"
      ],
      "metadata": {
        "id": "tMQZGzjXdF6S"
      }
    },
    {
      "cell_type": "code",
      "source": [
        "model=genai.GenerativeModel(\n",
        "    model_name=MODEL\n",
        "    system_instruction=task['age']\n",
        ")\n",
        "\n",
        "response = model.generate_content(\n",
        "    make_content(df.iloc[0]),\n",
        "    generation_config=genai.types.GenerationConfig(\n",
        "        candidate_count=1,\n",
        "        stop_sequences=['x'],\n",
        "        max_output_tokens=10,\n",
        "        temperature=0.7,\n",
        "    )\n",
        ")\n",
        "output = response.text\n",
        "return output\n"
      ],
      "metadata": {
        "id": "Ql9v_GgQa0j8",
        "outputId": "62c99767-1f77-45cc-ea0d-fd08905f43d3",
        "colab": {
          "base_uri": "https://localhost:8080/",
          "height": 106
        }
      },
      "execution_count": 74,
      "outputs": [
        {
          "output_type": "error",
          "ename": "SyntaxError",
          "evalue": "invalid syntax. Perhaps you forgot a comma? (<ipython-input-74-c4ae46dabf82>, line 2)",
          "traceback": [
            "\u001b[0;36m  File \u001b[0;32m\"<ipython-input-74-c4ae46dabf82>\"\u001b[0;36m, line \u001b[0;32m2\u001b[0m\n\u001b[0;31m    model_name=MODEL\u001b[0m\n\u001b[0m               ^\u001b[0m\n\u001b[0;31mSyntaxError\u001b[0m\u001b[0;31m:\u001b[0m invalid syntax. Perhaps you forgot a comma?\n"
          ]
        }
      ]
    },
    {
      "cell_type": "code",
      "source": [
        "def run_task(task, content):\n",
        "    model=genai.GenerativeModel(\n",
        "      model_name=\"gemini-pro\",\n",
        "      system_instruction=task\n",
        "    )\n",
        "    response = model.generate_content(\n",
        "        content,\n",
        "        generation_config=genai.types.GenerationConfig(\n",
        "            candidate_count=1,\n",
        "            stop_sequences=['x'],\n",
        "            max_output_tokens=10,\n",
        "            temperature=0.7,\n",
        "        )\n",
        "    )\n",
        "    output = response.text\n",
        "    return output\n"
      ],
      "metadata": {
        "id": "wO93fTmQZhIe"
      },
      "execution_count": null,
      "outputs": []
    },
    {
      "cell_type": "code",
      "source": [
        "def main():\n",
        "\n",
        "    for task in src.tasks.task_main:\n",
        "        print(f\"Starting {task}\")\n",
        "        newcol = f'task_{task}'\n",
        "\n",
        "        if newcol not in tmp_df.columns:\n",
        "            tmp_df[newcol] = \"NONE\"\n",
        "\n",
        "        for i, j in tmp_df.iterrows():\n",
        "            if tmp_df.loc[j.name, newcol] != \"NONE\":\n",
        "                continue\n",
        "            print(f\"Running task for {j.name}\")\n",
        "            task_output = run_task(\n",
        "                src.tasks.task_main[task],\n",
        "                make_content(j)\n",
        "            )\n",
        "\n",
        "            tmp_df.loc[j.name, newcol] = task_output\n",
        "\n",
        "            tmp_df.to_csv(OUTPUT_FILE_PATH)\n",
        "            print(\"Filed Saved\")\n",
        "\n"
      ],
      "metadata": {
        "id": "NuYnsTwFaxA6"
      },
      "execution_count": null,
      "outputs": []
    }
  ],
  "metadata": {
    "colab": {
      "name": "03-ai-data-augmentation.ipynb",
      "provenance": [],
      "toc_visible": true
    },
    "kernelspec": {
      "display_name": "Python 3",
      "name": "python3"
    }
  },
  "nbformat": 4,
  "nbformat_minor": 0
}