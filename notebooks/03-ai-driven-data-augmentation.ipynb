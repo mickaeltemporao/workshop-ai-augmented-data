{
  "cells": [
    {
      "cell_type": "markdown",
      "metadata": {
        "id": "-QhPWE1lwZHH"
      },
      "source": [
        "# Augmenting Data with the Gemini API in Python"
      ]
    },
    {
      "cell_type": "markdown",
      "metadata": {
        "id": "db29b8d4247e"
      },
      "source": [
        "This tutorial aims to illustrate how to interact with the Gemini LLM API to create labels using predefined tasks."
      ]
    },
    {
      "cell_type": "markdown",
      "metadata": {
        "id": "EeMCtmx9ykyx"
      },
      "source": [
        "## Set up your API key\n",
        "\n",
        "To use the Gemini API, you'll need an API key. If you don't already have one, create a key in Google AI Studio.\n",
        "\n",
        "<a class=\"button\" href=\"https://aistudio.google.com/app/apikey\" target=\"_blank\" rel=\"noopener noreferrer\">Get an API key</a>\n",
        "\n",
        "In Colab, add the key to the secrets manager under the \"🔑\" in the left panel. Give it the name `GOOGLE_API_KEY`. Then pass the key to the SDK:"
      ]
    },
    {
      "cell_type": "code",
      "execution_count": null,
      "metadata": {
        "id": "HTiaTu6O1LRC"
      },
      "outputs": [],
      "source": [
        "# Import the Python SDK\n",
        "import google.generativeai as genai\n",
        "# Used to securely store your API key\n",
        "from google.colab import userdata\n",
        "\n",
        "GOOGLE_API_KEY=\"COLLEZ_VOTRE_CLE_ICI\"\n",
        "genai.configure(api_key=GOOGLE_API_KEY)"
      ]
    },
    {
      "cell_type": "markdown",
      "metadata": {
        "id": "CZPYk29o2No0"
      },
      "source": [
        "## Initialize the Generative Model\n",
        "\n",
        "Before you can make any API calls, you need to initialize the Generative Model."
      ]
    },
    {
      "cell_type": "code",
      "execution_count": null,
      "metadata": {
        "id": "s-JqXcDe2hZ_"
      },
      "outputs": [],
      "source": [
        "VERSION = \"gemini-1.5-flash\"\n",
        "# model = genai.GenerativeModel('gemini-pro')\n",
        "model = genai.GenerativeModel(VERSION)\n"
      ]
    },
    {
      "cell_type": "markdown",
      "metadata": {
        "id": "nXxypzJH4MUl"
      },
      "source": [
        "## Generate text"
      ]
    },
    {
      "cell_type": "code",
      "execution_count": null,
      "metadata": {
        "id": "j51mcrLD4Y2W"
      },
      "outputs": [],
      "source": [
        "response = model.generate_content(\"Peux-tu me raconter une histoire en 5 phrases\")\n",
        "print(response.text)"
      ]
    },
    {
      "cell_type": "markdown",
      "source": [
        "# Hack Time"
      ],
      "metadata": {
        "id": "UBaWIsU_aN_h"
      }
    },
    {
      "cell_type": "code",
      "source": [
        "# Créez une un object contenant votre demande et lancez votre requête.\n",
        "task = \"\"\n",
        "response = model.generate_content(task)\n",
        "print(response.text)\n"
      ],
      "metadata": {
        "id": "yUu6A4I4aPef"
      },
      "execution_count": null,
      "outputs": []
    },
    {
      "cell_type": "markdown",
      "source": [
        "# Let's get some external data"
      ],
      "metadata": {
        "id": "-HJGnQAyZNr4"
      }
    },
    {
      "cell_type": "code",
      "source": [
        "import pandas as pd\n",
        "\n",
        "DATA_PATH = \"https://raw.githubusercontent.com/mickaeltemporao/workshop-ai-augmented-data/main/data/raw/us_pols_20.csv\"\n",
        "df = pd.read_csv(DATA_PATH)\n",
        "df.head()"
      ],
      "metadata": {
        "id": "j5RF9IddZQSB"
      },
      "execution_count": null,
      "outputs": []
    },
    {
      "cell_type": "code",
      "source": [
        "def make_task(task_text):\n",
        "    return f\"\"\"\n",
        "        You are an unbiased US politics expert.\n",
        "        You will be provided with a Twitter account name and description.\n",
        "        Your task is to classify the account into one of the following numbered categories:\n",
        "        {task_text}\n",
        "        For each of these categories, I have provided a short description to help you with your choice.\n",
        "        Your output consists only of the number of the selected category, that is the number before the description provided.\n",
        "    \"\"\""
      ],
      "metadata": {
        "id": "N4jCXuvrazqt"
      },
      "execution_count": null,
      "outputs": []
    },
    {
      "cell_type": "markdown",
      "source": [
        "# Hack Time"
      ],
      "metadata": {
        "id": "zP6u7NDrcuqP"
      }
    },
    {
      "cell_type": "code",
      "source": [
        "# Test the newly created function\n"
      ],
      "metadata": {
        "id": "lPQ7vxCNctVm"
      },
      "execution_count": null,
      "outputs": []
    },
    {
      "cell_type": "markdown",
      "source": [
        "# Let's add more tasks"
      ],
      "metadata": {
        "id": "acxkrPPKc4QU"
      }
    },
    {
      "cell_type": "code",
      "source": [
        "tasks = {\n",
        "    \"ideology\": make_task(\n",
        "        \"\"\"\n",
        "        1. Left wing accounts are those that express political views and opinions or include content that focuses on issues of income equality, environmental protection, social justice, open borders, progressive policies to promote minority representation;\n",
        "        2. Centre accounts are those that express political views that mix or combine left and right opinion and content such that one opinion or type of content does not dominate;\n",
        "        3. Right wing accounts are those that express political views and opinions or include content that focuses on issues of economic liberalism, less state intervention in citizens lives, lower taxes, controlling borders and immigration);\n",
        "        4. Non-partisan accounts are those that typically do not express political views or contain any political content;\n",
        "        \"\"\"\n",
        "    ),\n",
        "    \"age\": make_task(\n",
        "        \"\"\"\n",
        "        1. 18-24 Early adulthood, references to college, social media trends, youth culture.\n",
        "        2. 25-34: Early career stage, potential references to career growth, early family life, pop culture.\n",
        "        3. 35-44: Mid-career, family-oriented topics, more established professional references.\n",
        "        4. 45-54: Experienced career stage, references to leadership roles, mature pop culture.\n",
        "        5. 55-64: Pre-retirement stage, discussions about retirement, long-term career, older family dynamics.\n",
        "        6. 65+: Retirement, senior living, nostalgia, grandparenting.\n",
        "        0. Unclassifiable/Insufficient Information.\n",
        "        \"\"\"\n",
        "    ),\n",
        "    \"gender\": make_task(\n",
        "        \"\"\"\n",
        "        1. Male: Masculine language, traditional male-dominated interests or references.\n",
        "        2. Female: Feminine language, topics or references more common among women.\n",
        "        3. Non-binary/Genderqueer: Non-gendered language, a mix of traditionally male and female references.\n",
        "        0. Unclassifiable/Insufficient Information.\n",
        "        \"\"\"\n",
        "    ),\n",
        "    \"education\": make_task(\n",
        "        \"\"\"\n",
        "        1. High School or Lower: Basic language use, common knowledge, fewer technical terms.\n",
        "        2. Some College/Technical School: Intermediate language, some industry-specific terms or references.\n",
        "        3. Undergraduate Degree: Advanced language, references to undergraduate-level education.\n",
        "        4. Graduate Degree (Master’s, PhD): Complex language, use of specialized terminology, advanced concepts.\n",
        "        5. Professional Certifications: Industry-specific jargon, focus on certification-related content.\n",
        "        0. Unclassifiable/Insufficient Information.\n",
        "        \"\"\"\n",
        "    ),\n",
        "}"
      ],
      "metadata": {
        "id": "-g2WlCiqa8ds"
      },
      "execution_count": null,
      "outputs": []
    },
    {
      "cell_type": "markdown",
      "source": [
        "# Hack Time"
      ],
      "metadata": {
        "id": "SkLms8h_c9h0"
      }
    },
    {
      "cell_type": "code",
      "source": [
        "# Test it!\n"
      ],
      "metadata": {
        "id": "1u7fQI8jdARF"
      },
      "execution_count": null,
      "outputs": []
    },
    {
      "cell_type": "markdown",
      "source": [
        "# Let's find a user!"
      ],
      "metadata": {
        "id": "Lm6tsImQdouM"
      }
    },
    {
      "cell_type": "code",
      "source": [
        "df.iloc[0]"
      ],
      "metadata": {
        "id": "XSqQj0s8dtJR"
      },
      "execution_count": null,
      "outputs": []
    },
    {
      "cell_type": "code",
      "source": [
        "def make_content(obs):\n",
        "    return f\"\"\"Account name: {obs.username}\n",
        "Account description: {obs['description']}\n",
        "\"\"\"\n",
        "\n",
        "print(make_content(df.iloc[0]))"
      ],
      "metadata": {
        "id": "aJ0Wldi6aupI"
      },
      "execution_count": null,
      "outputs": []
    },
    {
      "cell_type": "markdown",
      "source": [
        "# Let's try this!"
      ],
      "metadata": {
        "id": "tMQZGzjXdF6S"
      }
    },
    {
      "cell_type": "code",
      "source": [
        "model=genai.GenerativeModel(\n",
        "    model_name=VERSION,\n",
        "    system_instruction=tasks['age']\n",
        ")\n",
        "\n",
        "response = model.generate_content(\n",
        "    make_content(df.iloc[0]),\n",
        "    generation_config=genai.types.GenerationConfig(\n",
        "        candidate_count=1,\n",
        "        stop_sequences=['x'],\n",
        "        max_output_tokens=10,\n",
        "        temperature=0.7,\n",
        "    )\n",
        ")\n",
        "print(response.text)\n"
      ],
      "metadata": {
        "id": "Ql9v_GgQa0j8"
      },
      "execution_count": null,
      "outputs": []
    },
    {
      "cell_type": "markdown",
      "source": [
        "# We can automate this for more users & tasks!"
      ],
      "metadata": {
        "id": "hM_S40DgeyWA"
      }
    },
    {
      "cell_type": "code",
      "source": [
        "def run_task(task, content):\n",
        "    model=genai.GenerativeModel(\n",
        "      model_name=VERSION,\n",
        "      system_instruction=task\n",
        "    )\n",
        "    response = model.generate_content(\n",
        "        content,\n",
        "        generation_config=genai.types.GenerationConfig(\n",
        "            candidate_count=1,\n",
        "            stop_sequences=['x'],\n",
        "            max_output_tokens=10,\n",
        "            temperature=0.7,\n",
        "        )\n",
        "    )\n",
        "    output = response.text\n",
        "    return output\n"
      ],
      "metadata": {
        "id": "wO93fTmQZhIe"
      },
      "execution_count": null,
      "outputs": []
    },
    {
      "cell_type": "code",
      "source": [
        "def main():\n",
        "    for task in tasks:\n",
        "        print(f\"Starting {task}\")\n",
        "        newcol = f'task_{task}'\n",
        "\n",
        "        if newcol not in df.columns:\n",
        "            df[newcol] = \"NONE\"\n",
        "\n",
        "        for i, j in df.iterrows():\n",
        "            if df.loc[j.name, newcol] != \"NONE\":\n",
        "                continue\n",
        "            print(f\"Running task for {j.name}\")\n",
        "            task_output = run_task(\n",
        "                tasks[task],\n",
        "                make_content(j)\n",
        "            )\n",
        "            df.loc[j.name, newcol] = task_output\n",
        ""
      ],
      "metadata": {
        "id": "NuYnsTwFaxA6"
      },
      "execution_count": null,
      "outputs": []
    },
    {
      "cell_type": "code",
      "source": [
        "main()"
      ],
      "metadata": {
        "id": "7fwPVomSfYdp"
      },
      "execution_count": null,
      "outputs": []
    },
    {
      "cell_type": "code",
      "source": [
        "df"
      ],
      "metadata": {
        "id": "9sSnGLFgk2Y4"
      },
      "execution_count": null,
      "outputs": []
    },
    {
      "cell_type": "code",
      "source": [
        "vars = df.columns[df.columns.str.contains('task')]\n",
        "df[vars] = df[vars].apply(pd.to_numeric)\n"
      ],
      "metadata": {
        "id": "8Od_KZsUmrzW"
      },
      "execution_count": null,
      "outputs": []
    },
    {
      "cell_type": "code",
      "source": [
        "df[vars] = df[vars].astype('category')"
      ],
      "metadata": {
        "id": "qgqb2YLVqCPE"
      },
      "execution_count": null,
      "outputs": []
    },
    {
      "cell_type": "markdown",
      "source": [
        "# Let's take a closer look..."
      ],
      "metadata": {
        "id": "uh2KmLTbmGex"
      }
    },
    {
      "cell_type": "code",
      "source": [
        "import altair as alt\n"
      ],
      "metadata": {
        "id": "sg08Zhrfl_Os"
      },
      "execution_count": null,
      "outputs": []
    },
    {
      "cell_type": "code",
      "source": [
        "alt.Chart(df).mark_bar().encode(\n",
        "    x=alt.X('count(task_ideology)').stack(\"normalize\"),\n",
        "    y=alt.Y(f'{task_age}'),\n",
        "    color=alt.Color('task_ideology').legend(orient='top')\n",
        ")\n"
      ],
      "metadata": {
        "id": "fmz4XBzrmJ26"
      },
      "execution_count": null,
      "outputs": []
    },
    {
      "cell_type": "code",
      "source": [
        "alt.Chart(df).mark_bar().encode(\n",
        "  x=alt.X('count(task_education)'),\n",
        "  y='task_education',\n",
        "  color='task_ideology'\n",
        ")\n"
      ],
      "metadata": {
        "id": "Lbv32NKcrbg_"
      },
      "execution_count": null,
      "outputs": []
    }
  ],
  "metadata": {
    "colab": {
      "name": "03-ai-data-augmentation.ipynb",
      "provenance": []
    },
    "kernelspec": {
      "display_name": "Python 3",
      "name": "python3"
    }
  },
  "nbformat": 4,
  "nbformat_minor": 0
}